{
 "cells": [
  {
   "cell_type": "markdown",
   "metadata": {},
   "source": [
    "# Obtaining Data"
   ]
  },
  {
   "cell_type": "markdown",
   "metadata": {},
   "source": [
    "In order to perform our analysis, we need access to a large amount of data. In this notebook, we use the OpenDota API to quickly assemble a sample of data without having to gather individual matches. This data gives us the necessary information to build a working model, while also providing us with easy tools for expanding our dataset in the future."
   ]
  },
  {
   "cell_type": "code",
   "execution_count": 1,
   "metadata": {},
   "outputs": [],
   "source": [
    "import pandas as pd\n",
    "from project_funcs import get_match_data #importing custom function for gathering match data in batches"
   ]
  },
  {
   "cell_type": "code",
   "execution_count": 2,
   "metadata": {},
   "outputs": [
    {
     "data": {
      "text/plain": [
       "(1928, 14)"
      ]
     },
     "execution_count": 2,
     "metadata": {},
     "output_type": "execute_result"
    }
   ],
   "source": [
    "api_key = #API Key removed for privacy purposes\n",
    "df = get_match_data(10000, api_key)\n",
    "df.shape"
   ]
  },
  {
   "cell_type": "code",
   "execution_count": 6,
   "metadata": {},
   "outputs": [],
   "source": [
    "df.to_csv('match_data.csv', index = False) #Writing data to a file for use in out main notebook"
   ]
  },
  {
   "cell_type": "code",
   "execution_count": 5,
   "metadata": {},
   "outputs": [
    {
     "data": {
      "text/html": [
       "<div>\n",
       "<style scoped>\n",
       "    .dataframe tbody tr th:only-of-type {\n",
       "        vertical-align: middle;\n",
       "    }\n",
       "\n",
       "    .dataframe tbody tr th {\n",
       "        vertical-align: top;\n",
       "    }\n",
       "\n",
       "    .dataframe thead th {\n",
       "        text-align: right;\n",
       "    }\n",
       "</style>\n",
       "<table border=\"1\" class=\"dataframe\">\n",
       "  <thead>\n",
       "    <tr style=\"text-align: right;\">\n",
       "      <th></th>\n",
       "      <th>match_id</th>\n",
       "      <th>match_seq_num</th>\n",
       "      <th>radiant_win</th>\n",
       "      <th>start_time</th>\n",
       "      <th>duration</th>\n",
       "      <th>avg_mmr</th>\n",
       "      <th>num_mmr</th>\n",
       "      <th>lobby_type</th>\n",
       "      <th>game_mode</th>\n",
       "      <th>avg_rank_tier</th>\n",
       "      <th>num_rank_tier</th>\n",
       "      <th>cluster</th>\n",
       "      <th>radiant_team</th>\n",
       "      <th>dire_team</th>\n",
       "    </tr>\n",
       "  </thead>\n",
       "  <tbody>\n",
       "    <tr>\n",
       "      <th>0</th>\n",
       "      <td>5774382508</td>\n",
       "      <td>4861536209</td>\n",
       "      <td>True</td>\n",
       "      <td>1609928270</td>\n",
       "      <td>567</td>\n",
       "      <td>4902.0</td>\n",
       "      <td>6.0</td>\n",
       "      <td>7</td>\n",
       "      <td>3</td>\n",
       "      <td>79</td>\n",
       "      <td>8</td>\n",
       "      <td>236</td>\n",
       "      <td>81,62,41,39,31</td>\n",
       "      <td>95,8,1,129,109</td>\n",
       "    </tr>\n",
       "    <tr>\n",
       "      <th>1</th>\n",
       "      <td>5774380902</td>\n",
       "      <td>4861534174</td>\n",
       "      <td>True</td>\n",
       "      <td>1609928176</td>\n",
       "      <td>448</td>\n",
       "      <td>NaN</td>\n",
       "      <td>NaN</td>\n",
       "      <td>0</td>\n",
       "      <td>22</td>\n",
       "      <td>25</td>\n",
       "      <td>3</td>\n",
       "      <td>184</td>\n",
       "      <td>18,2,21,37,84</td>\n",
       "      <td>62,13,35,41,4</td>\n",
       "    </tr>\n",
       "    <tr>\n",
       "      <th>2</th>\n",
       "      <td>5774380304</td>\n",
       "      <td>4861533616</td>\n",
       "      <td>True</td>\n",
       "      <td>1609928140</td>\n",
       "      <td>474</td>\n",
       "      <td>3978.0</td>\n",
       "      <td>1.0</td>\n",
       "      <td>0</td>\n",
       "      <td>22</td>\n",
       "      <td>54</td>\n",
       "      <td>3</td>\n",
       "      <td>187</td>\n",
       "      <td>30,123,65,70,50</td>\n",
       "      <td>42,19,59,90,86</td>\n",
       "    </tr>\n",
       "    <tr>\n",
       "      <th>3</th>\n",
       "      <td>5774378001</td>\n",
       "      <td>4861541478</td>\n",
       "      <td>False</td>\n",
       "      <td>1609928009</td>\n",
       "      <td>1192</td>\n",
       "      <td>NaN</td>\n",
       "      <td>NaN</td>\n",
       "      <td>0</td>\n",
       "      <td>22</td>\n",
       "      <td>27</td>\n",
       "      <td>3</td>\n",
       "      <td>134</td>\n",
       "      <td>93,74,120,42,52</td>\n",
       "      <td>121,99,77,21,101</td>\n",
       "    </tr>\n",
       "    <tr>\n",
       "      <th>4</th>\n",
       "      <td>5774376916</td>\n",
       "      <td>4861542219</td>\n",
       "      <td>False</td>\n",
       "      <td>1609927939</td>\n",
       "      <td>1312</td>\n",
       "      <td>2531.0</td>\n",
       "      <td>2.0</td>\n",
       "      <td>0</td>\n",
       "      <td>4</td>\n",
       "      <td>42</td>\n",
       "      <td>5</td>\n",
       "      <td>137</td>\n",
       "      <td>44,30,17,8,110</td>\n",
       "      <td>35,75,32,59,27</td>\n",
       "    </tr>\n",
       "  </tbody>\n",
       "</table>\n",
       "</div>"
      ],
      "text/plain": [
       "     match_id  match_seq_num  radiant_win  start_time  duration  avg_mmr  \\\n",
       "0  5774382508     4861536209         True  1609928270       567   4902.0   \n",
       "1  5774380902     4861534174         True  1609928176       448      NaN   \n",
       "2  5774380304     4861533616         True  1609928140       474   3978.0   \n",
       "3  5774378001     4861541478        False  1609928009      1192      NaN   \n",
       "4  5774376916     4861542219        False  1609927939      1312   2531.0   \n",
       "\n",
       "   num_mmr  lobby_type  game_mode  avg_rank_tier  num_rank_tier  cluster  \\\n",
       "0      6.0           7          3             79              8      236   \n",
       "1      NaN           0         22             25              3      184   \n",
       "2      1.0           0         22             54              3      187   \n",
       "3      NaN           0         22             27              3      134   \n",
       "4      2.0           0          4             42              5      137   \n",
       "\n",
       "      radiant_team         dire_team  \n",
       "0   81,62,41,39,31    95,8,1,129,109  \n",
       "1    18,2,21,37,84     62,13,35,41,4  \n",
       "2  30,123,65,70,50    42,19,59,90,86  \n",
       "3  93,74,120,42,52  121,99,77,21,101  \n",
       "4   44,30,17,8,110    35,75,32,59,27  "
      ]
     },
     "execution_count": 5,
     "metadata": {},
     "output_type": "execute_result"
    }
   ],
   "source": [
    "df2 = pd.read_csv('match_data.csv') #loading the dataset to ensure that it saved properly\n",
    "df2.head()"
   ]
  },
  {
   "cell_type": "markdown",
   "metadata": {},
   "source": [
    "# A Note on Sampling Methods\n",
    "\n",
    "This method is great for gathering samples quickly, but loses efficiency very quickly. It pulls batches of 100 random matches from the last 3 days, and consecutive batches are increasingly prone to duplicate matches. There is an option to limit subsequent batches by a maximum match ID number, but in using this limiting factor we quickly encountered a situation where the same 100 batches were pulled each time. The OpenDota API offers several other options for gathering match data, all of which are more targeted and significantly more time intensive. We will explore these in our \"Future Work\" section of the index notebook in this repository."
   ]
  }
 ],
 "metadata": {
  "kernelspec": {
   "display_name": "Python [conda env:learn-env] *",
   "language": "python",
   "name": "conda-env-learn-env-py"
  },
  "language_info": {
   "codemirror_mode": {
    "name": "ipython",
    "version": 3
   },
   "file_extension": ".py",
   "mimetype": "text/x-python",
   "name": "python",
   "nbconvert_exporter": "python",
   "pygments_lexer": "ipython3",
   "version": "3.6.10"
  }
 },
 "nbformat": 4,
 "nbformat_minor": 4
}
