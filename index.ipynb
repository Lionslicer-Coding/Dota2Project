{
 "cells": [
  {
   "cell_type": "markdown",
   "metadata": {},
   "source": [
    "# Predicting Match Outcomes in Dota 2\n",
    "\n"
   ]
  },
  {
   "cell_type": "markdown",
   "metadata": {},
   "source": [
    "- Student Name: John Casey Dean\n",
    "- Student Pace: Part Time\n",
    "- Scheduled Review: 1-8-2021 16:30 CT\n",
    "- Instructor Name: Lindsey Berlin\n",
    "- Blog Post URL: "
   ]
  },
  {
   "cell_type": "markdown",
   "metadata": {},
   "source": [
    "# Introduction"
   ]
  },
  {
   "cell_type": "markdown",
   "metadata": {},
   "source": [
    "For the better part of two decades, online multiplayer video games have been accruing massive player bases and forming competitive environments within them. These games span many different genres, and range from simple enough for children to complex enough to require thousands of hours of playtime to develop high level skills. \n",
    "\n",
    "One such game is Dota 2, created by Valve Software. Launched in 2012, this game has maintained a strong following all the way to the present day, where there are at least 400,000 players online at any point in time. Given the stability of the player base, it's not surprising that it also enjoys a strong competitive scene, creating myriad opportunities for individuals to generate income from the game. It has also generated an appetite for strong predictive tools that allow for more confident analysis and betting predictions.\n",
    "\n",
    "This project seeks to develop a strong predictive model for win probabilities of two teams, using only what is known prior to the start of a match."
   ]
  },
  {
   "cell_type": "markdown",
   "metadata": {},
   "source": [
    "# Obtaining Data\n",
    "\n",
    "This project uses data sourced from OpenDota, an open source community project that parses match data from Steam and provided the parsed match data to users. You can find the OpenDota project here: https://www.opendota.com/ \n",
    "\n",
    "Using their API, we pulled nearly 32,000 random matches from January 1, 2021, to January 4, 2021, and used them to build our models."
   ]
  },
  {
   "cell_type": "markdown",
   "metadata": {},
   "source": [
    "# Scrubbing the Data\n",
    "\n",
    "The data we obtained contains everything we need to make a minimum viable product, but the formatting is incovenient for exploration and modeling. Before moving on, the data will need to be reformatted."
   ]
  },
  {
   "cell_type": "markdown",
   "metadata": {},
   "source": [
    "## Importing Necessary Libraries and Data"
   ]
  },
  {
   "cell_type": "code",
   "execution_count": 1,
   "metadata": {},
   "outputs": [],
   "source": [
    "import pandas as pd\n",
    "import seaborn as sns\n",
    "import requests\n",
    "import json\n",
    "import sklearn\n",
    "import scipy\n",
    "import matplotlib.pyplot as plt\n",
    "%matplotlib inline\n",
    "from sklearn.linear_model import LogisticRegression\n",
    "from sklearn.ensemble import RandomForestClassifier\n",
    "from sklearn.model_selection import train_test_split\n",
    "from project_funcs import add_hero_cols, plot_conf_matrix, plot_roc\n",
    "from sklearn.linear_model import LogisticRegression\n",
    "from sklearn.model_selection import train_test_split\n",
    "from sklearn.model_selection import cross_val_score\n",
    "from sklearn.metrics import recall_score, precision_score, f1_score\n",
    "from sklearn.metrics import plot_confusion_matrix,roc_curve, confusion_matrix \n",
    "from sklearn.metrics import plot_roc_curve, roc_curve\n",
    "from sklearn import metrics\n",
    "from sklearn.metrics import roc_auc_score\n",
    "from sklearn.feature_selection import RFE\n",
    "from sklearn.pipeline import Pipeline\n",
    "from sklearn.model_selection import GridSearchCV\n",
    "import warnings\n",
    "import pickle"
   ]
  },
  {
   "cell_type": "code",
   "execution_count": 2,
   "metadata": {},
   "outputs": [
    {
     "data": {
      "text/html": [
       "<div>\n",
       "<style scoped>\n",
       "    .dataframe tbody tr th:only-of-type {\n",
       "        vertical-align: middle;\n",
       "    }\n",
       "\n",
       "    .dataframe tbody tr th {\n",
       "        vertical-align: top;\n",
       "    }\n",
       "\n",
       "    .dataframe thead th {\n",
       "        text-align: right;\n",
       "    }\n",
       "</style>\n",
       "<table border=\"1\" class=\"dataframe\">\n",
       "  <thead>\n",
       "    <tr style=\"text-align: right;\">\n",
       "      <th></th>\n",
       "      <th>match_id</th>\n",
       "      <th>match_seq_num</th>\n",
       "      <th>radiant_win</th>\n",
       "      <th>start_time</th>\n",
       "      <th>duration</th>\n",
       "      <th>avg_mmr</th>\n",
       "      <th>num_mmr</th>\n",
       "      <th>lobby_type</th>\n",
       "      <th>game_mode</th>\n",
       "      <th>avg_rank_tier</th>\n",
       "      <th>num_rank_tier</th>\n",
       "      <th>cluster</th>\n",
       "      <th>radiant_team</th>\n",
       "      <th>dire_team</th>\n",
       "    </tr>\n",
       "  </thead>\n",
       "  <tbody>\n",
       "    <tr>\n",
       "      <th>0</th>\n",
       "      <td>5774382508</td>\n",
       "      <td>4861536209</td>\n",
       "      <td>True</td>\n",
       "      <td>1609928270</td>\n",
       "      <td>567</td>\n",
       "      <td>4902.0</td>\n",
       "      <td>6.0</td>\n",
       "      <td>7</td>\n",
       "      <td>3</td>\n",
       "      <td>79</td>\n",
       "      <td>8</td>\n",
       "      <td>236</td>\n",
       "      <td>81,62,41,39,31</td>\n",
       "      <td>95,8,1,129,109</td>\n",
       "    </tr>\n",
       "    <tr>\n",
       "      <th>1</th>\n",
       "      <td>5774380902</td>\n",
       "      <td>4861534174</td>\n",
       "      <td>True</td>\n",
       "      <td>1609928176</td>\n",
       "      <td>448</td>\n",
       "      <td>NaN</td>\n",
       "      <td>NaN</td>\n",
       "      <td>0</td>\n",
       "      <td>22</td>\n",
       "      <td>25</td>\n",
       "      <td>3</td>\n",
       "      <td>184</td>\n",
       "      <td>18,2,21,37,84</td>\n",
       "      <td>62,13,35,41,4</td>\n",
       "    </tr>\n",
       "    <tr>\n",
       "      <th>2</th>\n",
       "      <td>5774380304</td>\n",
       "      <td>4861533616</td>\n",
       "      <td>True</td>\n",
       "      <td>1609928140</td>\n",
       "      <td>474</td>\n",
       "      <td>3978.0</td>\n",
       "      <td>1.0</td>\n",
       "      <td>0</td>\n",
       "      <td>22</td>\n",
       "      <td>54</td>\n",
       "      <td>3</td>\n",
       "      <td>187</td>\n",
       "      <td>30,123,65,70,50</td>\n",
       "      <td>42,19,59,90,86</td>\n",
       "    </tr>\n",
       "    <tr>\n",
       "      <th>3</th>\n",
       "      <td>5774378001</td>\n",
       "      <td>4861541478</td>\n",
       "      <td>False</td>\n",
       "      <td>1609928009</td>\n",
       "      <td>1192</td>\n",
       "      <td>NaN</td>\n",
       "      <td>NaN</td>\n",
       "      <td>0</td>\n",
       "      <td>22</td>\n",
       "      <td>27</td>\n",
       "      <td>3</td>\n",
       "      <td>134</td>\n",
       "      <td>93,74,120,42,52</td>\n",
       "      <td>121,99,77,21,101</td>\n",
       "    </tr>\n",
       "    <tr>\n",
       "      <th>4</th>\n",
       "      <td>5774376916</td>\n",
       "      <td>4861542219</td>\n",
       "      <td>False</td>\n",
       "      <td>1609927939</td>\n",
       "      <td>1312</td>\n",
       "      <td>2531.0</td>\n",
       "      <td>2.0</td>\n",
       "      <td>0</td>\n",
       "      <td>4</td>\n",
       "      <td>42</td>\n",
       "      <td>5</td>\n",
       "      <td>137</td>\n",
       "      <td>44,30,17,8,110</td>\n",
       "      <td>35,75,32,59,27</td>\n",
       "    </tr>\n",
       "  </tbody>\n",
       "</table>\n",
       "</div>"
      ],
      "text/plain": [
       "     match_id  match_seq_num  radiant_win  start_time  duration  avg_mmr  \\\n",
       "0  5774382508     4861536209         True  1609928270       567   4902.0   \n",
       "1  5774380902     4861534174         True  1609928176       448      NaN   \n",
       "2  5774380304     4861533616         True  1609928140       474   3978.0   \n",
       "3  5774378001     4861541478        False  1609928009      1192      NaN   \n",
       "4  5774376916     4861542219        False  1609927939      1312   2531.0   \n",
       "\n",
       "   num_mmr  lobby_type  game_mode  avg_rank_tier  num_rank_tier  cluster  \\\n",
       "0      6.0           7          3             79              8      236   \n",
       "1      NaN           0         22             25              3      184   \n",
       "2      1.0           0         22             54              3      187   \n",
       "3      NaN           0         22             27              3      134   \n",
       "4      2.0           0          4             42              5      137   \n",
       "\n",
       "      radiant_team         dire_team  \n",
       "0   81,62,41,39,31    95,8,1,129,109  \n",
       "1    18,2,21,37,84     62,13,35,41,4  \n",
       "2  30,123,65,70,50    42,19,59,90,86  \n",
       "3  93,74,120,42,52  121,99,77,21,101  \n",
       "4   44,30,17,8,110    35,75,32,59,27  "
      ]
     },
     "execution_count": 2,
     "metadata": {},
     "output_type": "execute_result"
    }
   ],
   "source": [
    "df = pd.read_csv('match_data.csv')\n",
    "df.head()"
   ]
  },
  {
   "cell_type": "code",
   "execution_count": 3,
   "metadata": {},
   "outputs": [
    {
     "data": {
      "text/plain": [
       "match_id            0\n",
       "match_seq_num       0\n",
       "radiant_win         0\n",
       "start_time          0\n",
       "duration            0\n",
       "avg_mmr          7087\n",
       "num_mmr          7087\n",
       "lobby_type          0\n",
       "game_mode           0\n",
       "avg_rank_tier       0\n",
       "num_rank_tier       0\n",
       "cluster             0\n",
       "radiant_team        0\n",
       "dire_team           0\n",
       "dtype: int64"
      ]
     },
     "execution_count": 3,
     "metadata": {},
     "output_type": "execute_result"
    }
   ],
   "source": [
    "df.isna().sum()"
   ]
  },
  {
   "cell_type": "code",
   "execution_count": 4,
   "metadata": {},
   "outputs": [
    {
     "data": {
      "text/plain": [
       "(31934, 14)"
      ]
     },
     "execution_count": 4,
     "metadata": {},
     "output_type": "execute_result"
    }
   ],
   "source": [
    "df.shape"
   ]
  },
  {
   "cell_type": "code",
   "execution_count": 5,
   "metadata": {},
   "outputs": [
    {
     "data": {
      "text/plain": [
       "7    25783\n",
       "0     6151\n",
       "Name: lobby_type, dtype: int64"
      ]
     },
     "execution_count": 5,
     "metadata": {},
     "output_type": "execute_result"
    }
   ],
   "source": [
    "df['lobby_type'].value_counts()"
   ]
  },
  {
   "cell_type": "code",
   "execution_count": 6,
   "metadata": {},
   "outputs": [
    {
     "data": {
      "text/plain": [
       "22    26954\n",
       "3      2643\n",
       "4      2307\n",
       "5        30\n",
       "Name: game_mode, dtype: int64"
      ]
     },
     "execution_count": 6,
     "metadata": {},
     "output_type": "execute_result"
    }
   ],
   "source": [
    "df['game_mode'].value_counts()"
   ]
  },
  {
   "cell_type": "code",
   "execution_count": 7,
   "metadata": {},
   "outputs": [
    {
     "data": {
      "text/plain": [
       "1.0    7777\n",
       "2.0    7065\n",
       "3.0    5386\n",
       "4.0    2814\n",
       "5.0    1158\n",
       "6.0     555\n",
       "7.0      92\n",
       "Name: num_mmr, dtype: int64"
      ]
     },
     "execution_count": 7,
     "metadata": {},
     "output_type": "execute_result"
    }
   ],
   "source": [
    "df['num_mmr'].value_counts()"
   ]
  },
  {
   "cell_type": "code",
   "execution_count": 8,
   "metadata": {},
   "outputs": [],
   "source": [
    "df = df.dropna()"
   ]
  },
  {
   "cell_type": "code",
   "execution_count": 9,
   "metadata": {},
   "outputs": [
    {
     "data": {
      "text/plain": [
       "match_id         0\n",
       "match_seq_num    0\n",
       "radiant_win      0\n",
       "start_time       0\n",
       "duration         0\n",
       "avg_mmr          0\n",
       "num_mmr          0\n",
       "lobby_type       0\n",
       "game_mode        0\n",
       "avg_rank_tier    0\n",
       "num_rank_tier    0\n",
       "cluster          0\n",
       "radiant_team     0\n",
       "dire_team        0\n",
       "dtype: int64"
      ]
     },
     "execution_count": 9,
     "metadata": {},
     "output_type": "execute_result"
    }
   ],
   "source": [
    "df.isna().sum()"
   ]
  },
  {
   "cell_type": "code",
   "execution_count": 10,
   "metadata": {},
   "outputs": [
    {
     "data": {
      "text/html": [
       "<div>\n",
       "<style scoped>\n",
       "    .dataframe tbody tr th:only-of-type {\n",
       "        vertical-align: middle;\n",
       "    }\n",
       "\n",
       "    .dataframe tbody tr th {\n",
       "        vertical-align: top;\n",
       "    }\n",
       "\n",
       "    .dataframe thead th {\n",
       "        text-align: right;\n",
       "    }\n",
       "</style>\n",
       "<table border=\"1\" class=\"dataframe\">\n",
       "  <thead>\n",
       "    <tr style=\"text-align: right;\">\n",
       "      <th></th>\n",
       "      <th>match_id</th>\n",
       "      <th>match_seq_num</th>\n",
       "      <th>radiant_win</th>\n",
       "      <th>start_time</th>\n",
       "      <th>duration</th>\n",
       "      <th>avg_mmr</th>\n",
       "      <th>num_mmr</th>\n",
       "      <th>lobby_type</th>\n",
       "      <th>game_mode</th>\n",
       "      <th>avg_rank_tier</th>\n",
       "      <th>...</th>\n",
       "      <th>Winter Wyvern_dire_team</th>\n",
       "      <th>Arc Warden_dire_team</th>\n",
       "      <th>Monkey King_dire_team</th>\n",
       "      <th>Dark Willow_dire_team</th>\n",
       "      <th>Pangolier_dire_team</th>\n",
       "      <th>Grimstroke_dire_team</th>\n",
       "      <th>Hoodwink_dire_team</th>\n",
       "      <th>Void Spirit_dire_team</th>\n",
       "      <th>Snapfire_dire_team</th>\n",
       "      <th>Mars_dire_team</th>\n",
       "    </tr>\n",
       "  </thead>\n",
       "  <tbody>\n",
       "    <tr>\n",
       "      <th>0</th>\n",
       "      <td>5774382508</td>\n",
       "      <td>4861536209</td>\n",
       "      <td>True</td>\n",
       "      <td>1609928270</td>\n",
       "      <td>567</td>\n",
       "      <td>4902.0</td>\n",
       "      <td>6.0</td>\n",
       "      <td>7</td>\n",
       "      <td>3</td>\n",
       "      <td>79</td>\n",
       "      <td>...</td>\n",
       "      <td>0</td>\n",
       "      <td>0</td>\n",
       "      <td>0</td>\n",
       "      <td>0</td>\n",
       "      <td>0</td>\n",
       "      <td>0</td>\n",
       "      <td>0</td>\n",
       "      <td>0</td>\n",
       "      <td>0</td>\n",
       "      <td>1</td>\n",
       "    </tr>\n",
       "    <tr>\n",
       "      <th>2</th>\n",
       "      <td>5774380304</td>\n",
       "      <td>4861533616</td>\n",
       "      <td>True</td>\n",
       "      <td>1609928140</td>\n",
       "      <td>474</td>\n",
       "      <td>3978.0</td>\n",
       "      <td>1.0</td>\n",
       "      <td>0</td>\n",
       "      <td>22</td>\n",
       "      <td>54</td>\n",
       "      <td>...</td>\n",
       "      <td>0</td>\n",
       "      <td>0</td>\n",
       "      <td>0</td>\n",
       "      <td>0</td>\n",
       "      <td>0</td>\n",
       "      <td>0</td>\n",
       "      <td>0</td>\n",
       "      <td>0</td>\n",
       "      <td>0</td>\n",
       "      <td>0</td>\n",
       "    </tr>\n",
       "    <tr>\n",
       "      <th>4</th>\n",
       "      <td>5774376916</td>\n",
       "      <td>4861542219</td>\n",
       "      <td>False</td>\n",
       "      <td>1609927939</td>\n",
       "      <td>1312</td>\n",
       "      <td>2531.0</td>\n",
       "      <td>2.0</td>\n",
       "      <td>0</td>\n",
       "      <td>4</td>\n",
       "      <td>42</td>\n",
       "      <td>...</td>\n",
       "      <td>0</td>\n",
       "      <td>0</td>\n",
       "      <td>0</td>\n",
       "      <td>0</td>\n",
       "      <td>0</td>\n",
       "      <td>0</td>\n",
       "      <td>0</td>\n",
       "      <td>0</td>\n",
       "      <td>0</td>\n",
       "      <td>0</td>\n",
       "    </tr>\n",
       "    <tr>\n",
       "      <th>5</th>\n",
       "      <td>5774376511</td>\n",
       "      <td>4861538645</td>\n",
       "      <td>True</td>\n",
       "      <td>1609927915</td>\n",
       "      <td>1070</td>\n",
       "      <td>2362.0</td>\n",
       "      <td>3.0</td>\n",
       "      <td>7</td>\n",
       "      <td>22</td>\n",
       "      <td>53</td>\n",
       "      <td>...</td>\n",
       "      <td>0</td>\n",
       "      <td>0</td>\n",
       "      <td>0</td>\n",
       "      <td>0</td>\n",
       "      <td>0</td>\n",
       "      <td>0</td>\n",
       "      <td>0</td>\n",
       "      <td>0</td>\n",
       "      <td>0</td>\n",
       "      <td>0</td>\n",
       "    </tr>\n",
       "    <tr>\n",
       "      <th>6</th>\n",
       "      <td>5774375502</td>\n",
       "      <td>4861539678</td>\n",
       "      <td>True</td>\n",
       "      <td>1609927840</td>\n",
       "      <td>1247</td>\n",
       "      <td>3593.0</td>\n",
       "      <td>1.0</td>\n",
       "      <td>7</td>\n",
       "      <td>22</td>\n",
       "      <td>32</td>\n",
       "      <td>...</td>\n",
       "      <td>0</td>\n",
       "      <td>0</td>\n",
       "      <td>0</td>\n",
       "      <td>0</td>\n",
       "      <td>0</td>\n",
       "      <td>1</td>\n",
       "      <td>0</td>\n",
       "      <td>0</td>\n",
       "      <td>0</td>\n",
       "      <td>0</td>\n",
       "    </tr>\n",
       "  </tbody>\n",
       "</table>\n",
       "<p>5 rows × 252 columns</p>\n",
       "</div>"
      ],
      "text/plain": [
       "     match_id  match_seq_num  radiant_win  start_time  duration  avg_mmr  \\\n",
       "0  5774382508     4861536209         True  1609928270       567   4902.0   \n",
       "2  5774380304     4861533616         True  1609928140       474   3978.0   \n",
       "4  5774376916     4861542219        False  1609927939      1312   2531.0   \n",
       "5  5774376511     4861538645         True  1609927915      1070   2362.0   \n",
       "6  5774375502     4861539678         True  1609927840      1247   3593.0   \n",
       "\n",
       "   num_mmr  lobby_type  game_mode  avg_rank_tier  ...  \\\n",
       "0      6.0           7          3             79  ...   \n",
       "2      1.0           0         22             54  ...   \n",
       "4      2.0           0          4             42  ...   \n",
       "5      3.0           7         22             53  ...   \n",
       "6      1.0           7         22             32  ...   \n",
       "\n",
       "   Winter Wyvern_dire_team  Arc Warden_dire_team  Monkey King_dire_team  \\\n",
       "0                        0                     0                      0   \n",
       "2                        0                     0                      0   \n",
       "4                        0                     0                      0   \n",
       "5                        0                     0                      0   \n",
       "6                        0                     0                      0   \n",
       "\n",
       "   Dark Willow_dire_team  Pangolier_dire_team  Grimstroke_dire_team  \\\n",
       "0                      0                    0                     0   \n",
       "2                      0                    0                     0   \n",
       "4                      0                    0                     0   \n",
       "5                      0                    0                     0   \n",
       "6                      0                    0                     1   \n",
       "\n",
       "   Hoodwink_dire_team  Void Spirit_dire_team  Snapfire_dire_team  \\\n",
       "0                   0                      0                   0   \n",
       "2                   0                      0                   0   \n",
       "4                   0                      0                   0   \n",
       "5                   0                      0                   0   \n",
       "6                   0                      0                   0   \n",
       "\n",
       "   Mars_dire_team  \n",
       "0               1  \n",
       "2               0  \n",
       "4               0  \n",
       "5               0  \n",
       "6               0  \n",
       "\n",
       "[5 rows x 252 columns]"
      ]
     },
     "execution_count": 10,
     "metadata": {},
     "output_type": "execute_result"
    }
   ],
   "source": [
    "df2 = add_hero_cols(df, 'radiant_team')\n",
    "df2 = add_hero_cols(df, 'dire_team')\n",
    "df2.head()"
   ]
  },
  {
   "cell_type": "code",
   "execution_count": 11,
   "metadata": {},
   "outputs": [
    {
     "data": {
      "text/html": [
       "<div>\n",
       "<style scoped>\n",
       "    .dataframe tbody tr th:only-of-type {\n",
       "        vertical-align: middle;\n",
       "    }\n",
       "\n",
       "    .dataframe tbody tr th {\n",
       "        vertical-align: top;\n",
       "    }\n",
       "\n",
       "    .dataframe thead th {\n",
       "        text-align: right;\n",
       "    }\n",
       "</style>\n",
       "<table border=\"1\" class=\"dataframe\">\n",
       "  <thead>\n",
       "    <tr style=\"text-align: right;\">\n",
       "      <th></th>\n",
       "      <th>radiant_win</th>\n",
       "      <th>avg_mmr</th>\n",
       "      <th>Anti-Mage_radiant_team</th>\n",
       "      <th>Axe_radiant_team</th>\n",
       "      <th>Bane_radiant_team</th>\n",
       "      <th>Bloodseeker_radiant_team</th>\n",
       "      <th>Crystal Maiden_radiant_team</th>\n",
       "      <th>Drow Ranger_radiant_team</th>\n",
       "      <th>Earthshaker_radiant_team</th>\n",
       "      <th>Juggernaut_radiant_team</th>\n",
       "      <th>...</th>\n",
       "      <th>Winter Wyvern_dire_team</th>\n",
       "      <th>Arc Warden_dire_team</th>\n",
       "      <th>Monkey King_dire_team</th>\n",
       "      <th>Dark Willow_dire_team</th>\n",
       "      <th>Pangolier_dire_team</th>\n",
       "      <th>Grimstroke_dire_team</th>\n",
       "      <th>Hoodwink_dire_team</th>\n",
       "      <th>Void Spirit_dire_team</th>\n",
       "      <th>Snapfire_dire_team</th>\n",
       "      <th>Mars_dire_team</th>\n",
       "    </tr>\n",
       "  </thead>\n",
       "  <tbody>\n",
       "    <tr>\n",
       "      <th>0</th>\n",
       "      <td>True</td>\n",
       "      <td>4902.0</td>\n",
       "      <td>0</td>\n",
       "      <td>0</td>\n",
       "      <td>0</td>\n",
       "      <td>0</td>\n",
       "      <td>0</td>\n",
       "      <td>0</td>\n",
       "      <td>0</td>\n",
       "      <td>0</td>\n",
       "      <td>...</td>\n",
       "      <td>0</td>\n",
       "      <td>0</td>\n",
       "      <td>0</td>\n",
       "      <td>0</td>\n",
       "      <td>0</td>\n",
       "      <td>0</td>\n",
       "      <td>0</td>\n",
       "      <td>0</td>\n",
       "      <td>0</td>\n",
       "      <td>1</td>\n",
       "    </tr>\n",
       "    <tr>\n",
       "      <th>2</th>\n",
       "      <td>True</td>\n",
       "      <td>3978.0</td>\n",
       "      <td>0</td>\n",
       "      <td>0</td>\n",
       "      <td>0</td>\n",
       "      <td>0</td>\n",
       "      <td>0</td>\n",
       "      <td>0</td>\n",
       "      <td>0</td>\n",
       "      <td>0</td>\n",
       "      <td>...</td>\n",
       "      <td>0</td>\n",
       "      <td>0</td>\n",
       "      <td>0</td>\n",
       "      <td>0</td>\n",
       "      <td>0</td>\n",
       "      <td>0</td>\n",
       "      <td>0</td>\n",
       "      <td>0</td>\n",
       "      <td>0</td>\n",
       "      <td>0</td>\n",
       "    </tr>\n",
       "    <tr>\n",
       "      <th>4</th>\n",
       "      <td>False</td>\n",
       "      <td>2531.0</td>\n",
       "      <td>0</td>\n",
       "      <td>0</td>\n",
       "      <td>0</td>\n",
       "      <td>0</td>\n",
       "      <td>0</td>\n",
       "      <td>0</td>\n",
       "      <td>0</td>\n",
       "      <td>1</td>\n",
       "      <td>...</td>\n",
       "      <td>0</td>\n",
       "      <td>0</td>\n",
       "      <td>0</td>\n",
       "      <td>0</td>\n",
       "      <td>0</td>\n",
       "      <td>0</td>\n",
       "      <td>0</td>\n",
       "      <td>0</td>\n",
       "      <td>0</td>\n",
       "      <td>0</td>\n",
       "    </tr>\n",
       "    <tr>\n",
       "      <th>5</th>\n",
       "      <td>True</td>\n",
       "      <td>2362.0</td>\n",
       "      <td>0</td>\n",
       "      <td>0</td>\n",
       "      <td>0</td>\n",
       "      <td>0</td>\n",
       "      <td>0</td>\n",
       "      <td>0</td>\n",
       "      <td>0</td>\n",
       "      <td>0</td>\n",
       "      <td>...</td>\n",
       "      <td>0</td>\n",
       "      <td>0</td>\n",
       "      <td>0</td>\n",
       "      <td>0</td>\n",
       "      <td>0</td>\n",
       "      <td>0</td>\n",
       "      <td>0</td>\n",
       "      <td>0</td>\n",
       "      <td>0</td>\n",
       "      <td>0</td>\n",
       "    </tr>\n",
       "    <tr>\n",
       "      <th>6</th>\n",
       "      <td>True</td>\n",
       "      <td>3593.0</td>\n",
       "      <td>0</td>\n",
       "      <td>0</td>\n",
       "      <td>0</td>\n",
       "      <td>0</td>\n",
       "      <td>0</td>\n",
       "      <td>0</td>\n",
       "      <td>0</td>\n",
       "      <td>1</td>\n",
       "      <td>...</td>\n",
       "      <td>0</td>\n",
       "      <td>0</td>\n",
       "      <td>0</td>\n",
       "      <td>0</td>\n",
       "      <td>0</td>\n",
       "      <td>1</td>\n",
       "      <td>0</td>\n",
       "      <td>0</td>\n",
       "      <td>0</td>\n",
       "      <td>0</td>\n",
       "    </tr>\n",
       "  </tbody>\n",
       "</table>\n",
       "<p>5 rows × 242 columns</p>\n",
       "</div>"
      ],
      "text/plain": [
       "   radiant_win  avg_mmr  Anti-Mage_radiant_team  Axe_radiant_team  \\\n",
       "0         True   4902.0                       0                 0   \n",
       "2         True   3978.0                       0                 0   \n",
       "4        False   2531.0                       0                 0   \n",
       "5         True   2362.0                       0                 0   \n",
       "6         True   3593.0                       0                 0   \n",
       "\n",
       "   Bane_radiant_team  Bloodseeker_radiant_team  Crystal Maiden_radiant_team  \\\n",
       "0                  0                         0                            0   \n",
       "2                  0                         0                            0   \n",
       "4                  0                         0                            0   \n",
       "5                  0                         0                            0   \n",
       "6                  0                         0                            0   \n",
       "\n",
       "   Drow Ranger_radiant_team  Earthshaker_radiant_team  \\\n",
       "0                         0                         0   \n",
       "2                         0                         0   \n",
       "4                         0                         0   \n",
       "5                         0                         0   \n",
       "6                         0                         0   \n",
       "\n",
       "   Juggernaut_radiant_team  ...  Winter Wyvern_dire_team  \\\n",
       "0                        0  ...                        0   \n",
       "2                        0  ...                        0   \n",
       "4                        1  ...                        0   \n",
       "5                        0  ...                        0   \n",
       "6                        1  ...                        0   \n",
       "\n",
       "   Arc Warden_dire_team  Monkey King_dire_team  Dark Willow_dire_team  \\\n",
       "0                     0                      0                      0   \n",
       "2                     0                      0                      0   \n",
       "4                     0                      0                      0   \n",
       "5                     0                      0                      0   \n",
       "6                     0                      0                      0   \n",
       "\n",
       "   Pangolier_dire_team  Grimstroke_dire_team  Hoodwink_dire_team  \\\n",
       "0                    0                     0                   0   \n",
       "2                    0                     0                   0   \n",
       "4                    0                     0                   0   \n",
       "5                    0                     0                   0   \n",
       "6                    0                     1                   0   \n",
       "\n",
       "   Void Spirit_dire_team  Snapfire_dire_team  Mars_dire_team  \n",
       "0                      0                   0               1  \n",
       "2                      0                   0               0  \n",
       "4                      0                   0               0  \n",
       "5                      0                   0               0  \n",
       "6                      0                   0               0  \n",
       "\n",
       "[5 rows x 242 columns]"
      ]
     },
     "execution_count": 11,
     "metadata": {},
     "output_type": "execute_result"
    }
   ],
   "source": [
    "df2.drop(['match_id', 'match_seq_num', 'start_time', 'duration', 'num_mmr',\n",
    "          'lobby_type', 'game_mode', 'avg_rank_tier', 'num_rank_tier', 'cluster'], \n",
    "         axis = 1, inplace = True)\n",
    "df2.head()"
   ]
  },
  {
   "cell_type": "code",
   "execution_count": 12,
   "metadata": {},
   "outputs": [],
   "source": [
    "df2.to_csv('sparse_table.csv', index = False)"
   ]
  },
  {
   "cell_type": "code",
   "execution_count": 13,
   "metadata": {},
   "outputs": [
    {
     "data": {
      "text/plain": [
       "15333"
      ]
     },
     "execution_count": 13,
     "metadata": {},
     "output_type": "execute_result"
    }
   ],
   "source": [
    "df2['radiant_win'].sum()"
   ]
  },
  {
   "cell_type": "markdown",
   "metadata": {},
   "source": [
    "# Exploratory Data Analysis"
   ]
  },
  {
   "cell_type": "markdown",
   "metadata": {},
   "source": []
  },
  {
   "cell_type": "markdown",
   "metadata": {},
   "source": [
    "# Modeling"
   ]
  },
  {
   "cell_type": "markdown",
   "metadata": {},
   "source": [
    "The first model we will create is a simple logistic regression model. This will give us a baseline to compare other models to. We will then explore other models, including boosting and parameter tuning packages. "
   ]
  },
  {
   "cell_type": "markdown",
   "metadata": {},
   "source": [
    "Before actually modeling, we have a single column that outscales the others drastically; the avg_mmr feature. In order to avoid overtuning to this feature, we will quickly scale it down between 0 and 1 to be in line with our sparse table."
   ]
  },
  {
   "cell_type": "code",
   "execution_count": 14,
   "metadata": {},
   "outputs": [],
   "source": [
    "mmr_max = df2['avg_mmr'].max()"
   ]
  },
  {
   "cell_type": "code",
   "execution_count": 15,
   "metadata": {
    "scrolled": true
   },
   "outputs": [
    {
     "data": {
      "text/html": [
       "<div>\n",
       "<style scoped>\n",
       "    .dataframe tbody tr th:only-of-type {\n",
       "        vertical-align: middle;\n",
       "    }\n",
       "\n",
       "    .dataframe tbody tr th {\n",
       "        vertical-align: top;\n",
       "    }\n",
       "\n",
       "    .dataframe thead th {\n",
       "        text-align: right;\n",
       "    }\n",
       "</style>\n",
       "<table border=\"1\" class=\"dataframe\">\n",
       "  <thead>\n",
       "    <tr style=\"text-align: right;\">\n",
       "      <th></th>\n",
       "      <th>radiant_win</th>\n",
       "      <th>avg_mmr</th>\n",
       "      <th>Anti-Mage_radiant_team</th>\n",
       "      <th>Axe_radiant_team</th>\n",
       "      <th>Bane_radiant_team</th>\n",
       "      <th>Bloodseeker_radiant_team</th>\n",
       "      <th>Crystal Maiden_radiant_team</th>\n",
       "      <th>Drow Ranger_radiant_team</th>\n",
       "      <th>Earthshaker_radiant_team</th>\n",
       "      <th>Juggernaut_radiant_team</th>\n",
       "      <th>...</th>\n",
       "      <th>Winter Wyvern_dire_team</th>\n",
       "      <th>Arc Warden_dire_team</th>\n",
       "      <th>Monkey King_dire_team</th>\n",
       "      <th>Dark Willow_dire_team</th>\n",
       "      <th>Pangolier_dire_team</th>\n",
       "      <th>Grimstroke_dire_team</th>\n",
       "      <th>Hoodwink_dire_team</th>\n",
       "      <th>Void Spirit_dire_team</th>\n",
       "      <th>Snapfire_dire_team</th>\n",
       "      <th>Mars_dire_team</th>\n",
       "    </tr>\n",
       "  </thead>\n",
       "  <tbody>\n",
       "    <tr>\n",
       "      <th>0</th>\n",
       "      <td>True</td>\n",
       "      <td>0.750000</td>\n",
       "      <td>0</td>\n",
       "      <td>0</td>\n",
       "      <td>0</td>\n",
       "      <td>0</td>\n",
       "      <td>0</td>\n",
       "      <td>0</td>\n",
       "      <td>0</td>\n",
       "      <td>0</td>\n",
       "      <td>...</td>\n",
       "      <td>0</td>\n",
       "      <td>0</td>\n",
       "      <td>0</td>\n",
       "      <td>0</td>\n",
       "      <td>0</td>\n",
       "      <td>0</td>\n",
       "      <td>0</td>\n",
       "      <td>0</td>\n",
       "      <td>0</td>\n",
       "      <td>1</td>\n",
       "    </tr>\n",
       "    <tr>\n",
       "      <th>2</th>\n",
       "      <td>True</td>\n",
       "      <td>0.608629</td>\n",
       "      <td>0</td>\n",
       "      <td>0</td>\n",
       "      <td>0</td>\n",
       "      <td>0</td>\n",
       "      <td>0</td>\n",
       "      <td>0</td>\n",
       "      <td>0</td>\n",
       "      <td>0</td>\n",
       "      <td>...</td>\n",
       "      <td>0</td>\n",
       "      <td>0</td>\n",
       "      <td>0</td>\n",
       "      <td>0</td>\n",
       "      <td>0</td>\n",
       "      <td>0</td>\n",
       "      <td>0</td>\n",
       "      <td>0</td>\n",
       "      <td>0</td>\n",
       "      <td>0</td>\n",
       "    </tr>\n",
       "    <tr>\n",
       "      <th>4</th>\n",
       "      <td>False</td>\n",
       "      <td>0.387240</td>\n",
       "      <td>0</td>\n",
       "      <td>0</td>\n",
       "      <td>0</td>\n",
       "      <td>0</td>\n",
       "      <td>0</td>\n",
       "      <td>0</td>\n",
       "      <td>0</td>\n",
       "      <td>1</td>\n",
       "      <td>...</td>\n",
       "      <td>0</td>\n",
       "      <td>0</td>\n",
       "      <td>0</td>\n",
       "      <td>0</td>\n",
       "      <td>0</td>\n",
       "      <td>0</td>\n",
       "      <td>0</td>\n",
       "      <td>0</td>\n",
       "      <td>0</td>\n",
       "      <td>0</td>\n",
       "    </tr>\n",
       "    <tr>\n",
       "      <th>5</th>\n",
       "      <td>True</td>\n",
       "      <td>0.361383</td>\n",
       "      <td>0</td>\n",
       "      <td>0</td>\n",
       "      <td>0</td>\n",
       "      <td>0</td>\n",
       "      <td>0</td>\n",
       "      <td>0</td>\n",
       "      <td>0</td>\n",
       "      <td>0</td>\n",
       "      <td>...</td>\n",
       "      <td>0</td>\n",
       "      <td>0</td>\n",
       "      <td>0</td>\n",
       "      <td>0</td>\n",
       "      <td>0</td>\n",
       "      <td>0</td>\n",
       "      <td>0</td>\n",
       "      <td>0</td>\n",
       "      <td>0</td>\n",
       "      <td>0</td>\n",
       "    </tr>\n",
       "    <tr>\n",
       "      <th>6</th>\n",
       "      <td>True</td>\n",
       "      <td>0.549725</td>\n",
       "      <td>0</td>\n",
       "      <td>0</td>\n",
       "      <td>0</td>\n",
       "      <td>0</td>\n",
       "      <td>0</td>\n",
       "      <td>0</td>\n",
       "      <td>0</td>\n",
       "      <td>1</td>\n",
       "      <td>...</td>\n",
       "      <td>0</td>\n",
       "      <td>0</td>\n",
       "      <td>0</td>\n",
       "      <td>0</td>\n",
       "      <td>0</td>\n",
       "      <td>1</td>\n",
       "      <td>0</td>\n",
       "      <td>0</td>\n",
       "      <td>0</td>\n",
       "      <td>0</td>\n",
       "    </tr>\n",
       "  </tbody>\n",
       "</table>\n",
       "<p>5 rows × 242 columns</p>\n",
       "</div>"
      ],
      "text/plain": [
       "   radiant_win   avg_mmr  Anti-Mage_radiant_team  Axe_radiant_team  \\\n",
       "0         True  0.750000                       0                 0   \n",
       "2         True  0.608629                       0                 0   \n",
       "4        False  0.387240                       0                 0   \n",
       "5         True  0.361383                       0                 0   \n",
       "6         True  0.549725                       0                 0   \n",
       "\n",
       "   Bane_radiant_team  Bloodseeker_radiant_team  Crystal Maiden_radiant_team  \\\n",
       "0                  0                         0                            0   \n",
       "2                  0                         0                            0   \n",
       "4                  0                         0                            0   \n",
       "5                  0                         0                            0   \n",
       "6                  0                         0                            0   \n",
       "\n",
       "   Drow Ranger_radiant_team  Earthshaker_radiant_team  \\\n",
       "0                         0                         0   \n",
       "2                         0                         0   \n",
       "4                         0                         0   \n",
       "5                         0                         0   \n",
       "6                         0                         0   \n",
       "\n",
       "   Juggernaut_radiant_team  ...  Winter Wyvern_dire_team  \\\n",
       "0                        0  ...                        0   \n",
       "2                        0  ...                        0   \n",
       "4                        1  ...                        0   \n",
       "5                        0  ...                        0   \n",
       "6                        1  ...                        0   \n",
       "\n",
       "   Arc Warden_dire_team  Monkey King_dire_team  Dark Willow_dire_team  \\\n",
       "0                     0                      0                      0   \n",
       "2                     0                      0                      0   \n",
       "4                     0                      0                      0   \n",
       "5                     0                      0                      0   \n",
       "6                     0                      0                      0   \n",
       "\n",
       "   Pangolier_dire_team  Grimstroke_dire_team  Hoodwink_dire_team  \\\n",
       "0                    0                     0                   0   \n",
       "2                    0                     0                   0   \n",
       "4                    0                     0                   0   \n",
       "5                    0                     0                   0   \n",
       "6                    0                     1                   0   \n",
       "\n",
       "   Void Spirit_dire_team  Snapfire_dire_team  Mars_dire_team  \n",
       "0                      0                   0               1  \n",
       "2                      0                   0               0  \n",
       "4                      0                   0               0  \n",
       "5                      0                   0               0  \n",
       "6                      0                   0               0  \n",
       "\n",
       "[5 rows x 242 columns]"
      ]
     },
     "execution_count": 15,
     "metadata": {},
     "output_type": "execute_result"
    }
   ],
   "source": [
    "df2['avg_mmr'] = df2['avg_mmr']/mmr_max\n",
    "df2.head()"
   ]
  },
  {
   "cell_type": "code",
   "execution_count": 16,
   "metadata": {
    "scrolled": true
   },
   "outputs": [
    {
     "data": {
      "text/plain": [
       "<AxesSubplot:xlabel='avg_mmr'>"
      ]
     },
     "execution_count": 16,
     "metadata": {},
     "output_type": "execute_result"
    },
    {
     "data": {
      "image/png": "[encoded data removed]",
      "text/plain": [
       "<Figure size 432x288 with 1 Axes>"
      ]
     },
     "metadata": {
      "needs_background": "light"
     },
     "output_type": "display_data"
    }
   ],
   "source": [
    "sns.distplot(df2['avg_mmr'])"
   ]
  },
  {
   "cell_type": "code",
   "execution_count": 17,
   "metadata": {},
   "outputs": [
    {
     "name": "stdout",
     "output_type": "stream",
     "text": [
      "0 radiant_win\n",
      "1 avg_mmr\n",
      "2 Anti-Mage_radiant_team\n",
      "3 Axe_radiant_team\n",
      "4 Bane_radiant_team\n",
      "5 Bloodseeker_radiant_team\n",
      "6 Crystal Maiden_radiant_team\n",
      "7 Drow Ranger_radiant_team\n",
      "8 Earthshaker_radiant_team\n",
      "9 Juggernaut_radiant_team\n",
      "10 Mirana_radiant_team\n",
      "11 Morphling_radiant_team\n",
      "12 Shadow Fiend_radiant_team\n",
      "13 Phantom Lancer_radiant_team\n",
      "14 Puck_radiant_team\n",
      "15 Pudge_radiant_team\n",
      "16 Razor_radiant_team\n",
      "17 Sand King_radiant_team\n",
      "18 Storm Spirit_radiant_team\n",
      "19 Sven_radiant_team\n",
      "20 Tiny_radiant_team\n",
      "21 Vengeful Spirit_radiant_team\n",
      "22 Windranger_radiant_team\n",
      "23 Zeus_radiant_team\n",
      "24 Kunkka_radiant_team\n",
      "25 Lina_radiant_team\n",
      "26 Lion_radiant_team\n",
      "27 Shadow Shaman_radiant_team\n",
      "28 Slardar_radiant_team\n",
      "29 Tidehunter_radiant_team\n",
      "30 Witch Doctor_radiant_team\n",
      "31 Lich_radiant_team\n",
      "32 Riki_radiant_team\n",
      "33 Enigma_radiant_team\n",
      "34 Tinker_radiant_team\n",
      "35 Sniper_radiant_team\n",
      "36 Necrophos_radiant_team\n",
      "37 Warlock_radiant_team\n",
      "38 Beastmaster_radiant_team\n",
      "39 Queen of Pain_radiant_team\n",
      "40 Venomancer_radiant_team\n",
      "41 Faceless Void_radiant_team\n",
      "42 Wraith King_radiant_team\n",
      "43 Death Prophet_radiant_team\n",
      "44 Phantom Assassin_radiant_team\n",
      "45 Pugna_radiant_team\n",
      "46 Templar Assassin_radiant_team\n",
      "47 Viper_radiant_team\n",
      "48 Luna_radiant_team\n",
      "49 Dragon Knight_radiant_team\n",
      "50 Dazzle_radiant_team\n",
      "51 Clockwerk_radiant_team\n",
      "52 Leshrac_radiant_team\n",
      "53 Nature's Prophet_radiant_team\n",
      "54 Lifestealer_radiant_team\n",
      "55 Dark Seer_radiant_team\n",
      "56 Clinkz_radiant_team\n",
      "57 Omniknight_radiant_team\n",
      "58 Enchantress_radiant_team\n",
      "59 Huskar_radiant_team\n",
      "60 Night Stalker_radiant_team\n",
      "61 Broodmother_radiant_team\n",
      "62 Bounty Hunter_radiant_team\n",
      "63 Weaver_radiant_team\n",
      "64 Jakiro_radiant_team\n",
      "65 Batrider_radiant_team\n",
      "66 Chen_radiant_team\n",
      "67 Spectre_radiant_team\n",
      "68 Ancient Apparition_radiant_team\n",
      "69 Doom_radiant_team\n",
      "70 Ursa_radiant_team\n",
      "71 Spirit Breaker_radiant_team\n",
      "72 Gyrocopter_radiant_team\n",
      "73 Alchemist_radiant_team\n",
      "74 Invoker_radiant_team\n",
      "75 Silencer_radiant_team\n",
      "76 Outworld Devourer_radiant_team\n",
      "77 Lycan_radiant_team\n",
      "78 Brewmaster_radiant_team\n",
      "79 Shadow Demon_radiant_team\n",
      "80 Lone Druid_radiant_team\n",
      "81 Chaos Knight_radiant_team\n",
      "82 Meepo_radiant_team\n",
      "83 Treant Protector_radiant_team\n",
      "84 Ogre Magi_radiant_team\n",
      "85 Undying_radiant_team\n",
      "86 Rubick_radiant_team\n",
      "87 Disruptor_radiant_team\n",
      "88 Nyx Assassin_radiant_team\n",
      "89 Naga Siren_radiant_team\n",
      "90 Keeper of the Light_radiant_team\n",
      "91 Io_radiant_team\n",
      "92 Visage_radiant_team\n",
      "93 Slark_radiant_team\n",
      "94 Medusa_radiant_team\n",
      "95 Troll Warlord_radiant_team\n",
      "96 Centaur Warrunner_radiant_team\n",
      "97 Magnus_radiant_team\n",
      "98 Timbersaw_radiant_team\n",
      "99 Bristleback_radiant_team\n",
      "100 Tusk_radiant_team\n",
      "101 Skywrath Mage_radiant_team\n",
      "102 Abaddon_radiant_team\n",
      "103 Elder Titan_radiant_team\n",
      "104 Legion Commander_radiant_team\n",
      "105 Techies_radiant_team\n",
      "106 Ember Spirit_radiant_team\n",
      "107 Earth Spirit_radiant_team\n",
      "108 Underlord_radiant_team\n",
      "109 Terrorblade_radiant_team\n",
      "110 Phoenix_radiant_team\n",
      "111 Oracle_radiant_team\n",
      "112 Winter Wyvern_radiant_team\n",
      "113 Arc Warden_radiant_team\n",
      "114 Monkey King_radiant_team\n",
      "115 Dark Willow_radiant_team\n",
      "116 Pangolier_radiant_team\n",
      "117 Grimstroke_radiant_team\n",
      "118 Hoodwink_radiant_team\n",
      "119 Void Spirit_radiant_team\n",
      "120 Snapfire_radiant_team\n",
      "121 Mars_radiant_team\n",
      "122 Anti-Mage_dire_team\n",
      "123 Axe_dire_team\n",
      "124 Bane_dire_team\n",
      "125 Bloodseeker_dire_team\n",
      "126 Crystal Maiden_dire_team\n",
      "127 Drow Ranger_dire_team\n",
      "128 Earthshaker_dire_team\n",
      "129 Juggernaut_dire_team\n",
      "130 Mirana_dire_team\n",
      "131 Morphling_dire_team\n",
      "132 Shadow Fiend_dire_team\n",
      "133 Phantom Lancer_dire_team\n",
      "134 Puck_dire_team\n",
      "135 Pudge_dire_team\n",
      "136 Razor_dire_team\n",
      "137 Sand King_dire_team\n",
      "138 Storm Spirit_dire_team\n",
      "139 Sven_dire_team\n",
      "140 Tiny_dire_team\n",
      "141 Vengeful Spirit_dire_team\n",
      "142 Windranger_dire_team\n",
      "143 Zeus_dire_team\n",
      "144 Kunkka_dire_team\n",
      "145 Lina_dire_team\n",
      "146 Lion_dire_team\n",
      "147 Shadow Shaman_dire_team\n",
      "148 Slardar_dire_team\n",
      "149 Tidehunter_dire_team\n",
      "150 Witch Doctor_dire_team\n",
      "151 Lich_dire_team\n",
      "152 Riki_dire_team\n",
      "153 Enigma_dire_team\n",
      "154 Tinker_dire_team\n",
      "155 Sniper_dire_team\n",
      "156 Necrophos_dire_team\n",
      "157 Warlock_dire_team\n",
      "158 Beastmaster_dire_team\n",
      "159 Queen of Pain_dire_team\n",
      "160 Venomancer_dire_team\n",
      "161 Faceless Void_dire_team\n",
      "162 Wraith King_dire_team\n",
      "163 Death Prophet_dire_team\n",
      "164 Phantom Assassin_dire_team\n",
      "165 Pugna_dire_team\n",
      "166 Templar Assassin_dire_team\n",
      "167 Viper_dire_team\n",
      "168 Luna_dire_team\n",
      "169 Dragon Knight_dire_team\n",
      "170 Dazzle_dire_team\n",
      "171 Clockwerk_dire_team\n",
      "172 Leshrac_dire_team\n",
      "173 Nature's Prophet_dire_team\n",
      "174 Lifestealer_dire_team\n",
      "175 Dark Seer_dire_team\n",
      "176 Clinkz_dire_team\n",
      "177 Omniknight_dire_team\n",
      "178 Enchantress_dire_team\n",
      "179 Huskar_dire_team\n",
      "180 Night Stalker_dire_team\n",
      "181 Broodmother_dire_team\n",
      "182 Bounty Hunter_dire_team\n",
      "183 Weaver_dire_team\n",
      "184 Jakiro_dire_team\n",
      "185 Batrider_dire_team\n",
      "186 Chen_dire_team\n",
      "187 Spectre_dire_team\n",
      "188 Ancient Apparition_dire_team\n",
      "189 Doom_dire_team\n",
      "190 Ursa_dire_team\n",
      "191 Spirit Breaker_dire_team\n",
      "192 Gyrocopter_dire_team\n",
      "193 Alchemist_dire_team\n",
      "194 Invoker_dire_team\n",
      "195 Silencer_dire_team\n",
      "196 Outworld Devourer_dire_team\n",
      "197 Lycan_dire_team\n",
      "198 Brewmaster_dire_team\n",
      "199 Shadow Demon_dire_team\n",
      "200 Lone Druid_dire_team\n",
      "201 Chaos Knight_dire_team\n",
      "202 Meepo_dire_team\n",
      "203 Treant Protector_dire_team\n",
      "204 Ogre Magi_dire_team\n",
      "205 Undying_dire_team\n",
      "206 Rubick_dire_team\n",
      "207 Disruptor_dire_team\n",
      "208 Nyx Assassin_dire_team\n",
      "209 Naga Siren_dire_team\n",
      "210 Keeper of the Light_dire_team\n",
      "211 Io_dire_team\n",
      "212 Visage_dire_team\n",
      "213 Slark_dire_team\n",
      "214 Medusa_dire_team\n",
      "215 Troll Warlord_dire_team\n",
      "216 Centaur Warrunner_dire_team\n",
      "217 Magnus_dire_team\n",
      "218 Timbersaw_dire_team\n",
      "219 Bristleback_dire_team\n",
      "220 Tusk_dire_team\n",
      "221 Skywrath Mage_dire_team\n",
      "222 Abaddon_dire_team\n",
      "223 Elder Titan_dire_team\n",
      "224 Legion Commander_dire_team\n",
      "225 Techies_dire_team\n",
      "226 Ember Spirit_dire_team\n",
      "227 Earth Spirit_dire_team\n",
      "228 Underlord_dire_team\n",
      "229 Terrorblade_dire_team\n",
      "230 Phoenix_dire_team\n",
      "231 Oracle_dire_team\n",
      "232 Winter Wyvern_dire_team\n",
      "233 Arc Warden_dire_team\n",
      "234 Monkey King_dire_team\n",
      "235 Dark Willow_dire_team\n",
      "236 Pangolier_dire_team\n",
      "237 Grimstroke_dire_team\n",
      "238 Hoodwink_dire_team\n",
      "239 Void Spirit_dire_team\n",
      "240 Snapfire_dire_team\n",
      "241 Mars_dire_team\n"
     ]
    }
   ],
   "source": [
    "i=1\n",
    "for col in df2.columns:\n",
    "    print(i-1, col)\n",
    "    i+=1"
   ]
  },
  {
   "cell_type": "code",
   "execution_count": 18,
   "metadata": {},
   "outputs": [],
   "source": [
    "state = 117"
   ]
  },
  {
   "cell_type": "code",
   "execution_count": null,
   "metadata": {},
   "outputs": [],
   "source": []
  },
  {
   "cell_type": "code",
   "execution_count": 19,
   "metadata": {},
   "outputs": [],
   "source": [
    "# Separating our features from our target\n",
    "df2_x = df2.drop(columns=['radiant_win'], axis = 1)\n",
    "df2_y = df2['radiant_win']"
   ]
  },
  {
   "cell_type": "code",
   "execution_count": 20,
   "metadata": {},
   "outputs": [],
   "source": [
    "# Generating training and testing data\n",
    "x_train, x_test, y_train, y_test = train_test_split(df2_x, df2_y, test_size = 0.25, random_state=state)"
   ]
  },
  {
   "cell_type": "markdown",
   "metadata": {},
   "source": [
    "## Logistic Regression"
   ]
  },
  {
   "cell_type": "code",
   "execution_count": 21,
   "metadata": {},
   "outputs": [],
   "source": [
    "# Instantiating our estimator object\n",
    "logreg = LogisticRegression(max_iter = 200, random_state = state, solver ='lbfgs',  n_jobs=-1)"
   ]
  },
  {
   "cell_type": "code",
   "execution_count": 22,
   "metadata": {},
   "outputs": [
    {
     "data": {
      "text/plain": [
       "LogisticRegression(max_iter=200, n_jobs=-1, random_state=117)"
      ]
     },
     "execution_count": 22,
     "metadata": {},
     "output_type": "execute_result"
    }
   ],
   "source": [
    "# Fitting our model\n",
    "logreg.fit(x_train, y_train)"
   ]
  },
  {
   "cell_type": "code",
   "execution_count": 23,
   "metadata": {},
   "outputs": [],
   "source": [
    "# Generating our predictions\n",
    "lr_predictions = logreg.predict(x_test)"
   ]
  },
  {
   "cell_type": "code",
   "execution_count": 24,
   "metadata": {},
   "outputs": [
    {
     "data": {
      "image/png": "[encoded data removed]",
      "text/plain": [
       "<Figure size 432x288 with 2 Axes>"
      ]
     },
     "metadata": {
      "needs_background": "light"
     },
     "output_type": "display_data"
    }
   ],
   "source": [
    "# Generate an plot our confusion matrix\n",
    "plot_conf_matrix('Logistic Regression', lr_predictions, y_test)"
   ]
  },
  {
   "cell_type": "code",
   "execution_count": 25,
   "metadata": {},
   "outputs": [
    {
     "data": {
      "image/png": "[encoded data removed]",
      "text/plain": [
       "<Figure size 720x360 with 2 Axes>"
      ]
     },
     "metadata": {
      "needs_background": "light"
     },
     "output_type": "display_data"
    }
   ],
   "source": [
    "plot_roc(logreg, x_train, y_train, x_test, y_test)"
   ]
  },
  {
   "cell_type": "markdown",
   "metadata": {},
   "source": [
    "## Random Forest Classifier"
   ]
  },
  {
   "cell_type": "code",
   "execution_count": 26,
   "metadata": {},
   "outputs": [],
   "source": [
    "# Instantiating our estimator object\n",
    "rfc = RandomForestClassifier(criterion='entropy',\n",
    "                             min_samples_split=.1,\n",
    "                             random_state=state,\n",
    "                             n_jobs=-1)"
   ]
  },
  {
   "cell_type": "code",
   "execution_count": 27,
   "metadata": {},
   "outputs": [
    {
     "data": {
      "text/plain": [
       "RandomForestClassifier(criterion='entropy', min_samples_split=0.1, n_jobs=-1,\n",
       "                       random_state=117)"
      ]
     },
     "execution_count": 27,
     "metadata": {},
     "output_type": "execute_result"
    }
   ],
   "source": [
    "rfc.fit(x_train, y_train)"
   ]
  },
  {
   "cell_type": "code",
   "execution_count": 28,
   "metadata": {},
   "outputs": [],
   "source": [
    "rfc_y_pred = rfc.predict(x_test)"
   ]
  },
  {
   "cell_type": "code",
   "execution_count": 29,
   "metadata": {},
   "outputs": [
    {
     "data": {
      "image/png": "[encoded data removed]",
      "text/plain": [
       "<Figure size 432x288 with 2 Axes>"
      ]
     },
     "metadata": {
      "needs_background": "light"
     },
     "output_type": "display_data"
    }
   ],
   "source": [
    "# Generate an plot our confusion matrix\n",
    "plot_conf_matrix('Random Forest', rfc_y_pred, y_test)"
   ]
  },
  {
   "cell_type": "code",
   "execution_count": 30,
   "metadata": {},
   "outputs": [
    {
     "data": {
      "image/png": "[encoded data removed]",
      "text/plain": [
       "<Figure size 720x360 with 2 Axes>"
      ]
     },
     "metadata": {
      "needs_background": "light"
     },
     "output_type": "display_data"
    }
   ],
   "source": [
    "plot_roc(rfc, x_train, y_train, x_test, y_test)"
   ]
  },
  {
   "cell_type": "markdown",
   "metadata": {},
   "source": [
    "## GridsearchCV"
   ]
  },
  {
   "cell_type": "code",
   "execution_count": 31,
   "metadata": {
    "scrolled": true
   },
   "outputs": [
    {
     "name": "stdout",
     "output_type": "stream",
     "text": [
      "Fitting 5 folds for each of 11 candidates, totalling 55 fits\n"
     ]
    },
    {
     "name": "stderr",
     "output_type": "stream",
     "text": [
      "[Parallel(n_jobs=-1)]: Using backend LokyBackend with 16 concurrent workers.\n",
      "[Parallel(n_jobs=-1)]: Done  18 tasks      | elapsed:    7.8s\n",
      "[Parallel(n_jobs=-1)]: Done  55 out of  55 | elapsed:   16.8s finished\n"
     ]
    }
   ],
   "source": [
    "# Create first pipeline for base without reducing features.\n",
    "\n",
    "pipe = Pipeline([('classifier' , RandomForestClassifier())])\n",
    "\n",
    "# Create param grid.\n",
    "\n",
    "param_grid = [\n",
    "    {'classifier' : [LogisticRegression()],\n",
    "    'classifier__penalty' : ['l1', 'l2'],\n",
    "    'classifier__solver' : ['liblinear']},\n",
    "    {'classifier' : [RandomForestClassifier()],\n",
    "    'classifier__criterion' : ['entropy'],\n",
    "    'classifier__min_samples_split' : [0.1, .01, .001],\n",
    "    'classifier__max_features' : ['auto', 'sqrt', 'log2']\n",
    "    }\n",
    "]\n",
    "\n",
    "# Create grid search object\n",
    "\n",
    "clf = GridSearchCV(pipe, param_grid = param_grid, cv = 5, verbose=True, n_jobs=-1)\n",
    "\n",
    "# Fit on data\n",
    "\n",
    "best_clf = clf.fit(x_train, y_train)"
   ]
  },
  {
   "cell_type": "code",
   "execution_count": 32,
   "metadata": {},
   "outputs": [],
   "source": [
    "gs_preds = best_clf.predict(x_test)"
   ]
  },
  {
   "cell_type": "code",
   "execution_count": 33,
   "metadata": {},
   "outputs": [
    {
     "data": {
      "image/png": "[encoded data removed]",
      "text/plain": [
       "<Figure size 432x288 with 2 Axes>"
      ]
     },
     "metadata": {
      "needs_background": "light"
     },
     "output_type": "display_data"
    }
   ],
   "source": [
    "# Generate an plot our confusion matrix\n",
    "plot_conf_matrix('Gridsearch Results', gs_preds, y_test)"
   ]
  },
  {
   "cell_type": "code",
   "execution_count": 34,
   "metadata": {},
   "outputs": [
    {
     "data": {
      "image/png": "[encoded data removed]",
      "text/plain": [
       "<Figure size 720x360 with 2 Axes>"
      ]
     },
     "metadata": {
      "needs_background": "light"
     },
     "output_type": "display_data"
    }
   ],
   "source": [
    "plot_roc(best_clf, x_train, y_train, x_test, y_test)"
   ]
  },
  {
   "cell_type": "code",
   "execution_count": 35,
   "metadata": {},
   "outputs": [
    {
     "data": {
      "text/plain": [
       "{'classifier': RandomForestClassifier(criterion='entropy', min_samples_split=0.001),\n",
       " 'classifier__criterion': 'entropy',\n",
       " 'classifier__max_features': 'auto',\n",
       " 'classifier__min_samples_split': 0.001}"
      ]
     },
     "execution_count": 35,
     "metadata": {},
     "output_type": "execute_result"
    }
   ],
   "source": [
    "best_clf.best_params_"
   ]
  },
  {
   "cell_type": "code",
   "execution_count": 36,
   "metadata": {},
   "outputs": [],
   "source": [
    "best_reg = RandomForestClassifier(criterion='entropy', \n",
    "                                  min_samples_split=0.001, \n",
    "                                  random_state = state, \n",
    "                                  n_jobs=-1)"
   ]
  },
  {
   "cell_type": "code",
   "execution_count": 37,
   "metadata": {},
   "outputs": [],
   "source": [
    "final_clf = best_reg.fit(df2_x, df2_y)"
   ]
  },
  {
   "cell_type": "markdown",
   "metadata": {},
   "source": [
    "# Future Work"
   ]
  },
  {
   "cell_type": "code",
   "execution_count": null,
   "metadata": {},
   "outputs": [],
   "source": []
  }
 ],
 "metadata": {
  "kernelspec": {
   "display_name": "Python [conda env:learn-env] *",
   "language": "python",
   "name": "conda-env-learn-env-py"
  },
  "language_info": {
   "codemirror_mode": {
    "name": "ipython",
    "version": 3
   },
   "file_extension": ".py",
   "mimetype": "text/x-python",
   "name": "python",
   "nbconvert_exporter": "python",
   "pygments_lexer": "ipython3",
   "version": "3.6.10"
  }
 },
 "nbformat": 4,
 "nbformat_minor": 4
}
